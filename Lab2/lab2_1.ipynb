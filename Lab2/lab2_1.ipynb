{
 "cells": [
  {
   "cell_type": "code",
   "execution_count": 20,
   "id": "714f218c",
   "metadata": {},
   "outputs": [],
   "source": [
    "import sympy as sp\n",
    "import numpy as np\n",
    "import matplotlib.pyplot as plt"
   ]
  },
  {
   "cell_type": "code",
   "execution_count": 2,
   "id": "3a044509",
   "metadata": {},
   "outputs": [
    {
     "data": {
      "image/png": "[encoded data removed]",
      "text/plain": [
       "<Figure size 640x480 with 1 Axes>"
      ]
     },
     "metadata": {},
     "output_type": "display_data"
    },
    {
     "data": {
      "text/plain": [
       "<sympy.plotting.plot.Plot at 0x26dad3211f0>"
      ]
     },
     "execution_count": 2,
     "metadata": {},
     "output_type": "execute_result"
    }
   ],
   "source": [
    "#Ньютон\n",
    "x=sp.Symbol('x')\n",
    "fx = sp.exp(x)-2*x-2\n",
    "dfx = sp.exp(x)-2\n",
    "epsilon = 0.001\n",
    "k=0\n",
    "sp.plotting.plot(fx,(x,-2,2),line_color='red')"
   ]
  },
  {
   "cell_type": "code",
   "execution_count": 3,
   "id": "a7cd7a4c",
   "metadata": {},
   "outputs": [],
   "source": [
    "def IterationN(X0,fx):\n",
    "    X1 = X0 - fx.subs(x,X0)/fx.diff(x).subs(x,X0)\n",
    "    print(\"X1 = \",X1)\n",
    "    return X1"
   ]
  },
  {
   "cell_type": "code",
   "execution_count": 24,
   "id": "da104fff",
   "metadata": {
    "scrolled": true
   },
   "outputs": [],
   "source": [
    "def CheckN(fx,X):\n",
    "    if(int(np.sign(fx.subs(x,X[0])))!=int(np.sign(fx.subs(x,X[1])))):\n",
    "        if (fx.subs(x,X[0])*fx.diff(x).diff(x).subs(x,X[0])>0 or fx.subs(x,X[1])*fx.diff(x).diff(x).subs(x,X[1])>0):\n",
    "            return 1\n",
    "    return 0"
   ]
  },
  {
   "cell_type": "code",
   "execution_count": 5,
   "id": "0a46400f",
   "metadata": {},
   "outputs": [],
   "source": [
    "def IterationNR(X0,fx):\n",
    "    X1 = X0 - fx.subs(x,X0)/dfx.subs(x,X0)\n",
    "    print(\"X1 = \",X1)\n",
    "    return X1"
   ]
  },
  {
   "cell_type": "code",
   "execution_count": 6,
   "id": "75fd03bf",
   "metadata": {},
   "outputs": [
    {
     "name": "stdout",
     "output_type": "stream",
     "text": [
      "X1 =  -0.768188633839324\n",
      "X1 =  -0.768039050391977\n",
      "amount of interation k= 2\n",
      "root1 = -0.768039050391977\n",
      "convertion = 0.000149583447347390\n"
     ]
    }
   ],
   "source": [
    "X0 = -0.8\n",
    "X1 = 0.0\n",
    "cond = 100.1\n",
    "k=0\n",
    "if(CheckN(fx,[X0,-0.6])):\n",
    "    while (cond > epsilon):\n",
    "        k+=1\n",
    "        X1 = IterationN(X0,fx)\n",
    "        cond = abs(X1 - X0)\n",
    "        X0 = X1\n",
    "    print(\"amount of interation k=\",k)\n",
    "    print(\"root1 =\",X1)\n",
    "    print(\"convertion =\",cond)\n",
    "else:\n",
    "    print(\"wrong x0\")"
   ]
  },
  {
   "cell_type": "code",
   "execution_count": 7,
   "id": "ce0d57ea",
   "metadata": {},
   "outputs": [
    {
     "name": "stdout",
     "output_type": "stream",
     "text": [
      "X1 =  1.68896626969031\n",
      "производная 4.04964746441295\n",
      " 2 производная 6.04964746441295\n",
      "X1 =  1.67843609140998\n",
      "производная 3.41388131829010\n",
      " 2 производная 5.41388131829010\n",
      "X1 =  1.67834699635081\n",
      "производная 3.35717129019471\n",
      " 2 производная 5.35717129019471\n",
      "amount of interation k= 3\n",
      "root2 = 1.67834699635081\n",
      "convertion = 8.90950591720951e-5\n"
     ]
    }
   ],
   "source": [
    "X0 = 1.8\n",
    "X1 = 0.0\n",
    "cond = 100.1\n",
    "k=0\n",
    "if(CheckN(fx,[1.5,X0])):\n",
    "    while (cond > epsilon):\n",
    "        k+=1\n",
    "        X1 = IterationN(X0,fx)\n",
    "        \n",
    "        print(\"производная\",fx.diff(x).subs(x,X0))\n",
    "        print(\" 2 производная\",fx.diff(x).diff(x).subs(x,X0))\n",
    "        cond = abs(X1 - X0)\n",
    "        X0 = X1\n",
    "    print(\"amount of interation k=\",k)\n",
    "    print(\"root2 =\",X1)\n",
    "    print(\"convertion =\",cond)\n",
    "else:\n",
    "    print(\"wrong x0\")"
   ]
  },
  {
   "cell_type": "code",
   "execution_count": 26,
   "id": "57b4a356",
   "metadata": {},
   "outputs": [
    {
     "name": "stdout",
     "output_type": "stream",
     "text": [
      "X1 =  1.68896626969031\n",
      "производная 4.04964746441295\n",
      " 2 производная 6.04964746441295\n",
      "X1 =  1.67843609140998\n",
      "производная 3.41388131829010\n",
      " 2 производная 5.41388131829010\n",
      "X1 =  1.67834699635081\n",
      "производная 3.35717129019471\n",
      " 2 производная 5.35717129019471\n",
      "amount of interation k= 3\n",
      "root2 = 1.67834699635081\n",
      "convertion = 8.90950591720951e-5\n"
     ]
    }
   ],
   "source": [
    "X0 = 1.8\n",
    "X1 = 0.0\n",
    "cond = 100.1\n",
    "k=0\n",
    "if(CheckN(fx,[X1,X0])):\n",
    "    while (cond > epsilon):\n",
    "        k+=1\n",
    "        X1 = IterationNR(X0,fx)\n",
    "        \n",
    "        print(\"производная\",fx.diff(x).subs(x,X0))\n",
    "        print(\" 2 производная\",fx.diff(x).diff(x).subs(x,X0))\n",
    "        cond = abs(X1 - X0)\n",
    "        X0 = X1\n",
    "    print(\"amount of interation k=\",k)\n",
    "    print(\"root2 =\",X1)\n",
    "    print(\"convertion =\",cond)\n",
    "else:\n",
    "    print(\"wrong x0\")"
   ]
  },
  {
   "cell_type": "code",
   "execution_count": 9,
   "id": "1382b31d",
   "metadata": {},
   "outputs": [],
   "source": [
    "#простая итерация\n",
    "k=0\n",
    "def Psix(lamda,fx):\n",
    "    return x - lamda*fx "
   ]
  },
  {
   "cell_type": "code",
   "execution_count": 10,
   "id": "37e9b5bf",
   "metadata": {},
   "outputs": [],
   "source": [
    "def IterationI(X0,psix):\n",
    "    X1 = psix.subs(x,X0)\n",
    "    return X1"
   ]
  },
  {
   "cell_type": "code",
   "execution_count": 11,
   "id": "1eb38434",
   "metadata": {},
   "outputs": [
    {
     "name": "stdout",
     "output_type": "stream",
     "text": [
      "0.284405818047013\n"
     ]
    }
   ],
   "source": [
    "print(abs(((sp.exp(x)-2)/2).diff(x).subs(x,-0.6))+0.01)"
   ]
  },
  {
   "cell_type": "code",
   "execution_count": 12,
   "id": "8f075dfc",
   "metadata": {},
   "outputs": [
    {
     "name": "stdout",
     "output_type": "stream",
     "text": [
      "amount of interation k= 9\n",
      "root1 = -0.769206160016085\n",
      "convertion = 0.000517746899446725\n"
     ]
    }
   ],
   "source": [
    "psix = Psix(0.3*np.sign(fx.diff(x).subs(x,-0.6)),fx)\n",
    "X1 = 0.0001\n",
    "cond = 100.1\n",
    "k=0\n",
    "if(abs(psix.diff(x).subs(x,-0.6)) < 1):\n",
    "    q=abs(psix.diff(x).subs(x,-0.6))+0.01\n",
    "    lamda = q*np.sign(fx.diff(x).subs(x,-0.6))\n",
    "    psix = Psix(0.2*np.sign(fx.diff(x).subs(x,-0.6)),fx)\n",
    "X0 = -0.8\n",
    "#интервал -0.8 -0.6\n",
    "while ((q/(1-q))*cond>epsilon):\n",
    "        k+=1\n",
    "        X1 = IterationI(X0,psix)\n",
    "        cond = abs(X1 - X0)\n",
    "        #print(\"root2 =\",X1)\n",
    "        #print(\"convertion =\",cond)\n",
    "        X0 = X1\n",
    "print(\"amount of interation k=\",k)\n",
    "print(\"root1 =\",X1)\n",
    "print(\"convertion =\",cond)\n",
    "\n"
   ]
  },
  {
   "cell_type": "code",
   "execution_count": 13,
   "id": "37037733",
   "metadata": {},
   "outputs": [
    {
     "name": "stdout",
     "output_type": "stream",
     "text": [
      "amount of interation k= 5\n",
      "root2 = 1.67730796916541\n",
      "convertion = 0.00210624598171139\n"
     ]
    }
   ],
   "source": [
    "psix = Psix(0.3*np.sign(fx.diff(x).subs(x,1.9)),fx)\n",
    "X1 =  0.0\n",
    "cond = 100.1\n",
    "k=0\n",
    "if(abs(psix.diff(x).subs(x,1.5)) < 1):\n",
    "    q=abs(psix.diff(x).subs(x,1.5))+0.01\n",
    "    lamda = q*np.sign(fx.diff(x).subs(x,1.5))\n",
    "    psix = Psix(0.2*np.sign(fx.diff(x).subs(x,1.5)),fx)\n",
    "X0 = 1.5\n",
    "#интервал 1.5 1.9\n",
    "while ((q/(1-q))*cond>epsilon):\n",
    "        k+=1\n",
    "        X1 = IterationI(X0,psix)\n",
    "        cond = abs(X1 - X0)\n",
    "        #print(\"root2 =\",X1)\n",
    "        #print(\"convertion =\",cond)\n",
    "        X0 = X1\n",
    "print(\"amount of interation k=\",k)\n",
    "print(\"root2 =\",X1)\n",
    "print(\"convertion =\",cond)\n",
    "\n"
   ]
  },
  {
   "cell_type": "code",
   "execution_count": 14,
   "id": "33a7a84f",
   "metadata": {},
   "outputs": [
    {
     "name": "stdout",
     "output_type": "stream",
     "text": [
      "exp(x) - 2\n"
     ]
    }
   ],
   "source": [
    "print(fx.diff(x))"
   ]
  },
  {
   "cell_type": "code",
   "execution_count": null,
   "id": "95b52051",
   "metadata": {},
   "outputs": [],
   "source": []
  },
  {
   "cell_type": "code",
   "execution_count": null,
   "id": "b980b82e",
   "metadata": {},
   "outputs": [],
   "source": []
  }
 ],
 "metadata": {
  "kernelspec": {
   "display_name": "Python 3 (ipykernel)",
   "language": "python",
   "name": "python3"
  },
  "language_info": {
   "codemirror_mode": {
    "name": "ipython",
    "version": 3
   },
   "file_extension": ".py",
   "mimetype": "text/x-python",
   "name": "python",
   "nbconvert_exporter": "python",
   "pygments_lexer": "ipython3",
   "version": "3.9.13"
  }
 },
 "nbformat": 4,
 "nbformat_minor": 5
}
