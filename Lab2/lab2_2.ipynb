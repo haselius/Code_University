{
 "cells": [
  {
   "cell_type": "code",
   "execution_count": 1,
   "id": "c3264616",
   "metadata": {},
   "outputs": [],
   "source": [
    "import sympy as sp\n",
    "import numpy as np\n",
    "import matplotlib.pyplot as plt"
   ]
  },
  {
   "cell_type": "code",
   "execution_count": 2,
   "id": "f5dc6d9f",
   "metadata": {},
   "outputs": [],
   "source": [
    "alpha = 3\n",
    "x=sp.Symbol('x')\n",
    "y=sp.Symbol('y')\n",
    "fx1 =sp.sympify(x - sp.cos(y)-1)\n",
    "fx2 =sp.sympify(y - sp.log(x+1)-alpha)"
   ]
  },
  {
   "cell_type": "code",
   "execution_count": 3,
   "id": "fe65a414",
   "metadata": {},
   "outputs": [
    {
     "data": {
      "image/png": "[encoded data removed]",
      "text/plain": [
       "<Figure size 640x480 with 1 Axes>"
      ]
     },
     "metadata": {},
     "output_type": "display_data"
    }
   ],
   "source": [
    "p1 = sp.plotting.plot_implicit(sp.Eq(fx1,0),(x,-10,10),(y,-10,10),show =False,line_color='red')\n",
    "p2 = sp.plotting.plot_implicit(sp.Eq(fx2,0),(x,-10,10),(y,-10,10),show =False,line_color='blue')\n",
    "p1.append(p2[0])\n",
    "p1.show()"
   ]
  },
  {
   "cell_type": "code",
   "execution_count": 4,
   "id": "e769fa73",
   "metadata": {},
   "outputs": [],
   "source": [
    "def IterationN(X0,fx1,fx2):\n",
    "    A1 =[sp.N(fx1.subs([(x,X0[0]),(y,X0[1])])),sp.N(fx1.diff(y).subs([(x,X0[0]),(y,X0[1])])),\n",
    "         sp.N(fx2.subs([(x,X0[0]),(y,X0[1])])),sp.N(fx2.diff(y).subs([(x,X0[0]),(y,X0[1])]))]\n",
    "    A2 = [sp.N(fx1.diff(x).subs([(x,X0[0]),(y,X0[1])])),sp.N(fx1.subs([(x,X0[0]),(y,X0[1])])),\n",
    "          sp.N(fx2.diff(x).subs([(x,X0[0]),(y,X0[1])])),sp.N(fx2.subs([(x,X0[0]),(y,X0[1])]))]\n",
    "    J = [sp.N(fx1.diff(x).subs([(x,X0[0]),(y,X0[1])])),sp.N(fx1.diff(y).subs([(x,X0[0]),(y,X0[1])])),\n",
    "         sp.N(fx2.diff(x).subs([(x,X0[0]),(y,X0[1])])),sp.N(fx2.diff(y).subs([(x,X0[0]),(y,X0[1])]))]\n",
    "    if(Det(J)==0):\n",
    "        print(\"матрица Якоби вырождена\")\n",
    "    X1 = [0,0]\n",
    "    X1[0]=X0[0] - Det(A1)/Det(J)\n",
    "    X1[1]=X0[1] - Det(A2)/Det(J)\n",
    "    return X1"
   ]
  },
  {
   "cell_type": "code",
   "execution_count": 5,
   "id": "a1dc4ca8",
   "metadata": {},
   "outputs": [],
   "source": [
    "def Multiply(J,A):\n",
    "    return [J[0]*A[0]+J[1]*A[1],J[2]*A[0]+J[3]*A[1]]"
   ]
  },
  {
   "cell_type": "code",
   "execution_count": 6,
   "id": "dcac5d10",
   "metadata": {},
   "outputs": [],
   "source": [
    "def IterationNM(X0,fx1,fx2):\n",
    "    J = [sp.N(fx1.diff(x).subs([(x,X0[0]),(y,X0[1])])),sp.N(fx1.diff(y).subs([(x,X0[0]),(y,X0[1])])),\n",
    "         sp.N(fx2.diff(x).subs([(x,X0[0]),(y,X0[1])])),sp.N(fx2.diff(y).subs([(x,X0[0]),(y,X0[1])]))]\n",
    "    if(Det(J)==0):\n",
    "        print(\"матрица Якоби вырождена\")\n",
    "    Jobr = [J[3]/Det(J),-1*J[1]/Det(J),-1*J[2]/Det(J),J[0]/Det(J)]\n",
    "    A = Multiply(Jobr,[sp.N(fx1.subs([(x,X0[0]),(y,X0[1])])),sp.N(fx2.subs([(x,X0[0]),(y,X0[1])]))])\n",
    "    return [X0[0] - A[0],X0[1] - A[1]]"
   ]
  },
  {
   "cell_type": "code",
   "execution_count": 7,
   "id": "17422760",
   "metadata": {},
   "outputs": [],
   "source": [
    "def Det(A):\n",
    "    return A[0]*A[3] - A[1]*A[2]"
   ]
  },
  {
   "cell_type": "code",
   "execution_count": 8,
   "id": "c22f42c0",
   "metadata": {},
   "outputs": [],
   "source": [
    "def Cond(A,B):\n",
    "    out = [abs(A[0]-B[0]),abs(A[1]-B[1])]\n",
    "    return max(out)"
   ]
  },
  {
   "cell_type": "code",
   "execution_count": 9,
   "id": "2304bb31",
   "metadata": {},
   "outputs": [
    {
     "name": "stdout",
     "output_type": "stream",
     "text": [
      "amount of interation k= 3\n",
      "root1 = [0.00880766520482274, 3.00877226840565]\n",
      "convertion = 0.00253362819773084\n"
     ]
    }
   ],
   "source": [
    "X0 = [0,2.5]\n",
    "X1= [0,0]\n",
    "k=0\n",
    "epsilon = 0.01\n",
    "cond = 100\n",
    "while (cond > epsilon):\n",
    "    k+=1 \n",
    "    if(k>100):\n",
    "        break\n",
    "    X1 = IterationN(X0,fx1,fx2)\n",
    "    cond = Cond(X1,X0)\n",
    "    X0 = X1\n",
    "print(\"amount of interation k=\",k)\n",
    "print(\"root1 =\",X1)\n",
    "print(\"convertion =\",cond)"
   ]
  },
  {
   "cell_type": "code",
   "execution_count": 10,
   "id": "8488c201",
   "metadata": {},
   "outputs": [
    {
     "name": "stdout",
     "output_type": "stream",
     "text": [
      "amount of interation k= 3\n",
      "root1 = [0.00880766520482274, 3.00877226840565]\n",
      "convertion = 0.00253362819773084\n"
     ]
    }
   ],
   "source": [
    "X0 = [0,2.5]\n",
    "X1= [0,0]\n",
    "k=0\n",
    "epsilon = 0.01\n",
    "cond = 100\n",
    "while (cond > epsilon):\n",
    "    k+=1 \n",
    "    if(k>100):\n",
    "        break\n",
    "    X1 = IterationNM(X0,fx1,fx2)\n",
    "    cond = Cond(X1,X0)\n",
    "    X0 = X1\n",
    "print(\"amount of interation k=\",k)\n",
    "print(\"root1 =\",X1)\n",
    "print(\"convertion =\",cond)"
   ]
  },
  {
   "cell_type": "code",
   "execution_count": 11,
   "id": "a2b3985f",
   "metadata": {},
   "outputs": [],
   "source": [
    "#простая итерация\n",
    "psix1 = sp.sympify(sp.cos(y)+1)\n",
    "psix2 =sp.sympify(sp.log(x+1)+alpha)"
   ]
  },
  {
   "cell_type": "code",
   "execution_count": 12,
   "id": "3f556655",
   "metadata": {},
   "outputs": [],
   "source": [
    "def IterationI(X0,fx1,fx2):\n",
    "    return [sp.N(fx1.subs([(x,X0[0]),(y,X0[1])])),sp.N(fx2.subs([(x,X0[0]),(y,X0[1])]))]"
   ]
  },
  {
   "cell_type": "code",
   "execution_count": 13,
   "id": "926e8c4c",
   "metadata": {},
   "outputs": [],
   "source": [
    "def Q(psix1,psix2,X0):\n",
    "    q1 = abs(sp.N(psix1.diff(x).subs([(x,X0[0]),(y,X0[1])]))) + abs(sp.N(psix1.diff(y).subs([(x,X0[0]),(y,X0[1])])))\n",
    "    q2 = abs(sp.N(psix2.diff(x).subs([(x,X0[0]),(y,X0[1])]))) + abs(sp.N(psix2.diff(y).subs([(x,X0[0]),(y,X0[1])])))\n",
    "    q3 = abs(sp.N(psix1.diff(x).subs([(x,X0[0]),(y,X0[1])]))) + abs(sp.N(psix2.diff(x).subs([(x,X0[0]),(y,X0[1])])))\n",
    "    q4 = abs(sp.N(psix1.diff(y).subs([(x,X0[0]),(y,X0[1])]))) + abs(sp.N(psix2.diff(y).subs([(x,X0[0]),(y,X0[1])])))\n",
    "    return max(q1,q2,q3,q4)"
   ]
  },
  {
   "cell_type": "code",
   "execution_count": 14,
   "id": "1d3be071",
   "metadata": {},
   "outputs": [
    {
     "name": "stdout",
     "output_type": "stream",
     "text": [
      "amount of interation k= 8\n",
      "root2 = [0.00882604654023167, 3.00862850259639]\n",
      "convertion = 0.000160211117106290\n"
     ]
    }
   ],
   "source": [
    "X0 = [0.1,2.5]\n",
    "X1= [0,0]\n",
    "k=0\n",
    "epsilon = 0.01\n",
    "cond = 100\n",
    "q= 0 \n",
    "if(Q(psix1,psix2,[0.1,3])<1):\n",
    "    q = Q(psix1,psix2,[0.1,3])\n",
    "else:\n",
    "    print(\"не выполняется необходимое условие\")\n",
    "while ((q/(1-q))*cond > epsilon):\n",
    "    k+=1 \n",
    "    if(k>100):\n",
    "        break\n",
    "    X1 = IterationI(X0,psix1,psix2)\n",
    "    cond = Cond(X1,X0)\n",
    "    X0 = X1\n",
    "print(\"amount of interation k=\",k)\n",
    "print(\"root2 =\",X1)\n",
    "print(\"convertion =\",cond)"
   ]
  },
  {
   "cell_type": "code",
   "execution_count": null,
   "id": "14fd012f",
   "metadata": {},
   "outputs": [],
   "source": []
  }
 ],
 "metadata": {
  "kernelspec": {
   "display_name": "Python 3 (ipykernel)",
   "language": "python",
   "name": "python3"
  },
  "language_info": {
   "codemirror_mode": {
    "name": "ipython",
    "version": 3
   },
   "file_extension": ".py",
   "mimetype": "text/x-python",
   "name": "python",
   "nbconvert_exporter": "python",
   "pygments_lexer": "ipython3",
   "version": "3.9.13"
  }
 },
 "nbformat": 4,
 "nbformat_minor": 5
}
